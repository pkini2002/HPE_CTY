{
 "cells": [
  {
   "cell_type": "code",
   "execution_count": 1,
   "id": "4642951c",
   "metadata": {},
   "outputs": [],
   "source": [
    "import numpy as np\n",
    "from sklearn.datasets import load_iris\n",
    "from sklearn.neighbors import KNeighborsClassifier\n",
    "from sklearn.model_selection import train_test_split"
   ]
  },
  {
   "cell_type": "code",
   "execution_count": 2,
   "id": "8d8dc9ae",
   "metadata": {},
   "outputs": [],
   "source": [
    "iris = load_iris()\n",
    "X = iris.data\n",
    "y = iris.target\n",
    "X_train, X_test, y_train, y_test = train_test_split(X, y, test_size=0.4, random_state=1)"
   ]
  },
  {
   "cell_type": "code",
   "execution_count": 4,
   "id": "23cc19e0",
   "metadata": {},
   "outputs": [
    {
     "data": {
      "text/html": [
       "<style>#sk-container-id-1 {color: black;background-color: white;}#sk-container-id-1 pre{padding: 0;}#sk-container-id-1 div.sk-toggleable {background-color: white;}#sk-container-id-1 label.sk-toggleable__label {cursor: pointer;display: block;width: 100%;margin-bottom: 0;padding: 0.3em;box-sizing: border-box;text-align: center;}#sk-container-id-1 label.sk-toggleable__label-arrow:before {content: \"▸\";float: left;margin-right: 0.25em;color: #696969;}#sk-container-id-1 label.sk-toggleable__label-arrow:hover:before {color: black;}#sk-container-id-1 div.sk-estimator:hover label.sk-toggleable__label-arrow:before {color: black;}#sk-container-id-1 div.sk-toggleable__content {max-height: 0;max-width: 0;overflow: hidden;text-align: left;background-color: #f0f8ff;}#sk-container-id-1 div.sk-toggleable__content pre {margin: 0.2em;color: black;border-radius: 0.25em;background-color: #f0f8ff;}#sk-container-id-1 input.sk-toggleable__control:checked~div.sk-toggleable__content {max-height: 200px;max-width: 100%;overflow: auto;}#sk-container-id-1 input.sk-toggleable__control:checked~label.sk-toggleable__label-arrow:before {content: \"▾\";}#sk-container-id-1 div.sk-estimator input.sk-toggleable__control:checked~label.sk-toggleable__label {background-color: #d4ebff;}#sk-container-id-1 div.sk-label input.sk-toggleable__control:checked~label.sk-toggleable__label {background-color: #d4ebff;}#sk-container-id-1 input.sk-hidden--visually {border: 0;clip: rect(1px 1px 1px 1px);clip: rect(1px, 1px, 1px, 1px);height: 1px;margin: -1px;overflow: hidden;padding: 0;position: absolute;width: 1px;}#sk-container-id-1 div.sk-estimator {font-family: monospace;background-color: #f0f8ff;border: 1px dotted black;border-radius: 0.25em;box-sizing: border-box;margin-bottom: 0.5em;}#sk-container-id-1 div.sk-estimator:hover {background-color: #d4ebff;}#sk-container-id-1 div.sk-parallel-item::after {content: \"\";width: 100%;border-bottom: 1px solid gray;flex-grow: 1;}#sk-container-id-1 div.sk-label:hover label.sk-toggleable__label {background-color: #d4ebff;}#sk-container-id-1 div.sk-serial::before {content: \"\";position: absolute;border-left: 1px solid gray;box-sizing: border-box;top: 0;bottom: 0;left: 50%;z-index: 0;}#sk-container-id-1 div.sk-serial {display: flex;flex-direction: column;align-items: center;background-color: white;padding-right: 0.2em;padding-left: 0.2em;position: relative;}#sk-container-id-1 div.sk-item {position: relative;z-index: 1;}#sk-container-id-1 div.sk-parallel {display: flex;align-items: stretch;justify-content: center;background-color: white;position: relative;}#sk-container-id-1 div.sk-item::before, #sk-container-id-1 div.sk-parallel-item::before {content: \"\";position: absolute;border-left: 1px solid gray;box-sizing: border-box;top: 0;bottom: 0;left: 50%;z-index: -1;}#sk-container-id-1 div.sk-parallel-item {display: flex;flex-direction: column;z-index: 1;position: relative;background-color: white;}#sk-container-id-1 div.sk-parallel-item:first-child::after {align-self: flex-end;width: 50%;}#sk-container-id-1 div.sk-parallel-item:last-child::after {align-self: flex-start;width: 50%;}#sk-container-id-1 div.sk-parallel-item:only-child::after {width: 0;}#sk-container-id-1 div.sk-dashed-wrapped {border: 1px dashed gray;margin: 0 0.4em 0.5em 0.4em;box-sizing: border-box;padding-bottom: 0.4em;background-color: white;}#sk-container-id-1 div.sk-label label {font-family: monospace;font-weight: bold;display: inline-block;line-height: 1.2em;}#sk-container-id-1 div.sk-label-container {text-align: center;}#sk-container-id-1 div.sk-container {/* jupyter's `normalize.less` sets `[hidden] { display: none; }` but bootstrap.min.css set `[hidden] { display: none !important; }` so we also need the `!important` here to be able to override the default hidden behavior on the sphinx rendered scikit-learn.org. See: https://github.com/scikit-learn/scikit-learn/issues/21755 */display: inline-block !important;position: relative;}#sk-container-id-1 div.sk-text-repr-fallback {display: none;}</style><div id=\"sk-container-id-1\" class=\"sk-top-container\"><div class=\"sk-text-repr-fallback\"><pre>KNeighborsClassifier(n_neighbors=3)</pre><b>In a Jupyter environment, please rerun this cell to show the HTML representation or trust the notebook. <br />On GitHub, the HTML representation is unable to render, please try loading this page with nbviewer.org.</b></div><div class=\"sk-container\" hidden><div class=\"sk-item\"><div class=\"sk-estimator sk-toggleable\"><input class=\"sk-toggleable__control sk-hidden--visually\" id=\"sk-estimator-id-1\" type=\"checkbox\" checked><label for=\"sk-estimator-id-1\" class=\"sk-toggleable__label sk-toggleable__label-arrow\">KNeighborsClassifier</label><div class=\"sk-toggleable__content\"><pre>KNeighborsClassifier(n_neighbors=3)</pre></div></div></div></div></div>"
      ],
      "text/plain": [
       "KNeighborsClassifier(n_neighbors=3)"
      ]
     },
     "execution_count": 4,
     "metadata": {},
     "output_type": "execute_result"
    }
   ],
   "source": [
    "knn = KNeighborsClassifier(n_neighbors=3)\n",
    "knn.fit(X_train, y_train)"
   ]
  },
  {
   "cell_type": "code",
   "execution_count": 5,
   "id": "f489a724",
   "metadata": {},
   "outputs": [
    {
     "name": "stdout",
     "output_type": "stream",
     "text": [
      "Accuracy: 0.9833333333333333\n"
     ]
    }
   ],
   "source": [
    "from sklearn import metrics\n",
    "y_pred = knn.predict(X_test)\n",
    "print(\"Accuracy:\", metrics.accuracy_score(y_test, y_pred))"
   ]
  },
  {
   "cell_type": "code",
   "execution_count": 6,
   "id": "ca31b28d",
   "metadata": {},
   "outputs": [],
   "source": [
    "from sklearn.base import BaseEstimator"
   ]
  },
  {
   "cell_type": "code",
   "execution_count": 13,
   "id": "4e205dfc",
   "metadata": {},
   "outputs": [],
   "source": [
    "def fun1():\n",
    "  print(\"Training starts in\");\n",
    "  for i in range(3,0,-1):\n",
    "    print(i)\n",
    "  print(\"Training Has Started\")\n",
    "\n",
    "def fun2():\n",
    "  print(\"Training ends in\");\n",
    "  for i in range(3,0,-1):\n",
    "    print(i)\n",
    "  print(\"Training Has Ended\")\n",
    "\n",
    "def fun3():\n",
    "    print(\"Training\")"
   ]
  },
  {
   "cell_type": "code",
   "execution_count": 22,
   "id": "147f9a0b",
   "metadata": {},
   "outputs": [],
   "source": [
    "class CallbackClass(BaseEstimator):\n",
    "  def __init__(self,model):\n",
    "    self.model=model\n",
    "    \n",
    "  def fit(self,x,y,on_start=None,on_end=None,on_train=None): \n",
    "    self.CallbackFunction()\n",
    "    \n",
    "    if on_start: \n",
    "      for i in on_start:\n",
    "        i()\n",
    "\n",
    "    if on_train:\n",
    "      for i in range(self.model.n_samples_fit_):\n",
    "        for i in on_train:\n",
    "          i()\n",
    "        self.model.fit(x,y)\n",
    "    \n",
    "    else:\n",
    "      self.model.fit(x,y)\n",
    "\n",
    "    if on_end: \n",
    "      for i in on_end:\n",
    "        i()\n",
    "    \n",
    "  def predict(self,x):\n",
    "    print(\"Predicted Value :\",self.model.predict(x))\n",
    "\n",
    "  def accuracy(self,x,y):\n",
    "    y_pred = knn.predict(x)\n",
    "    print(\"Accuracy:\", metrics.accuracy_score(y, y_pred))\n",
    "\n",
    "  def CallbackFunction(self):\n",
    "    print(\"Training Data\")"
   ]
  },
  {
   "cell_type": "code",
   "execution_count": 23,
   "id": "90059a2f",
   "metadata": {},
   "outputs": [
    {
     "name": "stdout",
     "output_type": "stream",
     "text": [
      "Training Data\n",
      "Training starts in\n",
      "3\n",
      "2\n",
      "1\n",
      "Training Has Started\n",
      "Training\n",
      "Training\n",
      "Training\n",
      "Training\n",
      "Training\n",
      "Training\n",
      "Training\n",
      "Training\n",
      "Training\n",
      "Training\n",
      "Training\n",
      "Training\n",
      "Training\n",
      "Training\n",
      "Training\n",
      "Training\n",
      "Training\n",
      "Training\n",
      "Training\n",
      "Training\n",
      "Training\n",
      "Training\n",
      "Training\n",
      "Training\n",
      "Training\n",
      "Training\n",
      "Training\n",
      "Training\n",
      "Training\n",
      "Training\n",
      "Training\n",
      "Training\n",
      "Training\n",
      "Training\n",
      "Training\n",
      "Training\n",
      "Training\n",
      "Training\n",
      "Training\n",
      "Training\n",
      "Training\n",
      "Training\n",
      "Training\n",
      "Training\n",
      "Training\n",
      "Training\n",
      "Training\n",
      "Training\n",
      "Training\n",
      "Training\n",
      "Training\n",
      "Training\n",
      "Training\n",
      "Training\n",
      "Training\n",
      "Training\n",
      "Training\n",
      "Training\n",
      "Training\n",
      "Training\n",
      "Training\n",
      "Training\n",
      "Training\n",
      "Training\n",
      "Training\n",
      "Training\n",
      "Training\n",
      "Training\n",
      "Training\n",
      "Training\n",
      "Training\n",
      "Training\n",
      "Training\n",
      "Training\n",
      "Training\n",
      "Training\n",
      "Training\n",
      "Training\n",
      "Training\n",
      "Training\n",
      "Training\n",
      "Training\n",
      "Training\n",
      "Training\n",
      "Training\n",
      "Training\n",
      "Training\n",
      "Training\n",
      "Training\n",
      "Training\n",
      "Training ends in\n",
      "3\n",
      "2\n",
      "1\n",
      "Training Has Ended\n"
     ]
    }
   ],
   "source": [
    "knnCallback=CallbackClass(knn)\n",
    "knnCallback.fit(X_train, y_train,on_start=[fun1],on_end=[fun2],on_train=[fun3])"
   ]
  },
  {
   "cell_type": "code",
   "execution_count": 24,
   "id": "1852cd97",
   "metadata": {},
   "outputs": [
    {
     "name": "stdout",
     "output_type": "stream",
     "text": [
      "Predicted Value : [0 1 1 0 2 1 2 0 0 2 1 0 2 1 1 0 1 1 0 0 1 1 1 0 2 1 0 0 1 2 1 2 1 2 2 0 1\n",
      " 0 1 2 2 0 1 2 1 2 0 0 0 1 0 0 2 2 2 2 2 1 2 1]\n",
      "Accuracy: 0.9833333333333333\n"
     ]
    }
   ],
   "source": [
    "knnCallback.predict(X_test)\n",
    "knnCallback.accuracy(X_test,y_test)"
   ]
  },
  {
   "cell_type": "code",
   "execution_count": null,
   "id": "ae39cd8f",
   "metadata": {},
   "outputs": [],
   "source": []
  }
 ],
 "metadata": {
  "kernelspec": {
   "display_name": "Python 3 (ipykernel)",
   "language": "python",
   "name": "python3"
  },
  "language_info": {
   "codemirror_mode": {
    "name": "ipython",
    "version": 3
   },
   "file_extension": ".py",
   "mimetype": "text/x-python",
   "name": "python",
   "nbconvert_exporter": "python",
   "pygments_lexer": "ipython3",
   "version": "3.10.6"
  }
 },
 "nbformat": 4,
 "nbformat_minor": 5
}
