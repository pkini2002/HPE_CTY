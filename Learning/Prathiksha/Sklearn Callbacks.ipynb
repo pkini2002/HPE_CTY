{
 "cells": [
  {
   "cell_type": "markdown",
   "id": "803ecbbf",
   "metadata": {},
   "source": [
    "## Importing the BaseEstimator Class from Sklearn"
   ]
  },
  {
   "cell_type": "code",
   "execution_count": 85,
   "id": "8d951622",
   "metadata": {},
   "outputs": [],
   "source": [
    "from sklearn.base import BaseEstimator  \n",
    "\n",
    "'''Base Estimator class is used to create a custom estimator in scikit learn to override the built in methods such as fit(), \n",
    " score() and predict() by inheriting the BaseEstimator and then implementing the common methods ''' \n",
    "\n",
    "import warnings\n",
    "warnings.simplefilter(\"ignore\")"
   ]
  },
  {
   "cell_type": "markdown",
   "id": "24400ad9",
   "metadata": {},
   "source": [
    "## Creating simple Callback functions for Training Start and Training End"
   ]
  },
  {
   "cell_type": "code",
   "execution_count": 110,
   "id": "11825988",
   "metadata": {},
   "outputs": [],
   "source": [
    "# Countdown before the training starts ranges from 3 to 0 because step=-1\n",
    "def fun1():\n",
    "    print(\"The training starts in...\")\n",
    "    for i in range(3,0,-1):\n",
    "        print(i)\n",
    "    print(\"The training has started\")\n",
    "    \n",
    "# Countdown for the end of training process\n",
    "def fun2():\n",
    "    print(\"The training ends in...\")\n",
    "    for i in range(3,0,-1):\n",
    "        print(i)\n",
    "    print(\"The training has ended\")\n",
    "    \n",
    "def fun3():\n",
    "    print(\"Training the model..\")\n",
    "        \n",
    "def calculate_accuracy(y_true, y_pred, **kwargs):\n",
    "    return accuracy_score(y_true, y_pred, **kwargs)"
   ]
  },
  {
   "cell_type": "markdown",
   "id": "5265455c",
   "metadata": {},
   "source": [
    "## Creating a class that can be used to override the implementations of existing methods "
   ]
  },
  {
   "cell_type": "code",
   "execution_count": 117,
   "id": "9528d333",
   "metadata": {},
   "outputs": [],
   "source": [
    "class CallBackClass(BaseEstimator):\n",
    "    # Creating a constructor for the CallBackClass\n",
    "    def __init__(self,model,n_estimators=100, **kwargs):\n",
    "        self.n_estimators = n_estimators\n",
    "        self.model = RandomForestClassifier(n_estimators=n_estimators, **kwargs)\n",
    "        # The self.model attricute is initialized to access the underlying scikit learn estimators such as fit,predict and score\n",
    "       \n",
    "    '''\n",
    "     X = The input data that will be used for training the model.\n",
    "     \n",
    "     y = The target values that correspond to the input data.\n",
    "     \n",
    "     on_start=None, on_end=None, on_train=None  -> They are optional params\n",
    "    They are used to pass callback functions which will be called at different stages of the training process\n",
    "    \n",
    "    '''  \n",
    "\n",
    "    def fit(self,X,y,on_start=None,on_end=None,on_train=None,**kwargs): # Sending Callbacks Through Kwargsss\n",
    "        # It checks if on_start arg is not none (ie; if there are any callbacks specidifed at the start of the trainings)\n",
    "        # Then it will iterate over the list and calls the callback by invoking i() in our case it calls fun1() \n",
    "        self.CallbackFunction()\n",
    "        if on_start is not None and isinstance(on_start, list):\n",
    "            for i in on_start:\n",
    "                i()\n",
    "         \n",
    "        if on_train: #Train Callbacks\n",
    "            for i in range(self.model.n_estimators): \n",
    "                '''\n",
    "                self.model.n_estimators is used to get the number of estimators in the Random forest Classifier. It allows\n",
    "                the CallbackClass to know the number of trees in the ensemble and loop through them during training.\n",
    "                ''' \n",
    "                for i in on_train:\n",
    "                    i()\n",
    "                self.model.fit(X,y,**kwargs) #Pass kwargs to the fit method\n",
    "            \n",
    "        else:\n",
    "            self.model.fit(X,y,**kwargs) #Pass kwargs to the fit method\n",
    "            \n",
    "        if on_end: #On End Callbacks\n",
    "            for i in on_end:\n",
    "                i()\n",
    "                \n",
    "    def predict(self,X,on_predict=None,**kwargs):\n",
    "        if on_predict: #On predict Callbacks\n",
    "            for i in on_predict:\n",
    "                i()\n",
    "        print(\"Predicted Value :\",self.model.predict(X,**kwargs)) #Pass kwargs to the predict method\n",
    "\n",
    "    def score(self,X,y,**kwargs):\n",
    "        print(\"Accuracy In Percentage :\",self.model.score(X,y,**kwargs)*100) #Pass kwargs to the score method\n",
    "\n",
    "    def CallbackFunction(self): #Custom CallBack\n",
    "        print(\"Training Data\")\n",
    "        \n",
    "    def calculate_accuracy(self, X, y_true, **kwargs):\n",
    "        y_pred = self.model.predict(X)\n",
    "        return calculate_accuracy(y_true, y_pred, **kwargs)\n"
   ]
  },
  {
   "cell_type": "markdown",
   "id": "d34859cb",
   "metadata": {},
   "source": [
    "### Creating an object of CustomCallback Class and passing the Random Forest Classifier model and computing the acuuracy"
   ]
  },
  {
   "cell_type": "code",
   "execution_count": 121,
   "id": "acb6b956",
   "metadata": {},
   "outputs": [
    {
     "name": "stdout",
     "output_type": "stream",
     "text": [
      "Training Data\n",
      "The training starts in...\n",
      "3\n",
      "2\n",
      "1\n",
      "The training has started\n",
      "Training the model..\n",
      "Training the model..\n",
      "Training the model..\n",
      "Training the model..\n",
      "Training the model..\n",
      "Training the model..\n",
      "Training the model..\n",
      "Training the model..\n",
      "Training the model..\n",
      "Training the model..\n",
      "Training the model..\n",
      "Training the model..\n",
      "Training the model..\n",
      "Training the model..\n",
      "Training the model..\n",
      "Training the model..\n",
      "Training the model..\n",
      "Training the model..\n",
      "Training the model..\n",
      "Training the model..\n",
      "Training the model..\n",
      "Training the model..\n",
      "Training the model..\n",
      "Training the model..\n",
      "Training the model..\n",
      "Training the model..\n",
      "Training the model..\n",
      "Training the model..\n",
      "Training the model..\n",
      "Training the model..\n",
      "Training the model..\n",
      "Training the model..\n",
      "Training the model..\n",
      "Training the model..\n",
      "Training the model..\n",
      "Training the model..\n",
      "Training the model..\n",
      "Training the model..\n",
      "Training the model..\n",
      "Training the model..\n",
      "Training the model..\n",
      "Training the model..\n",
      "Training the model..\n",
      "Training the model..\n",
      "Training the model..\n",
      "Training the model..\n",
      "Training the model..\n",
      "Training the model..\n",
      "Training the model..\n",
      "Training the model..\n",
      "The training ends in...\n",
      "3\n",
      "2\n",
      "1\n",
      "The training has ended\n",
      "Predicted Value : [1 0 2 1 2 0 0 2 2 1 0 0 2 1 1 1 1 2 2 0 2 1 0 0 2 2 2 0 0 0]\n",
      "Accuracy In Percentage : 100.0\n"
     ]
    },
    {
     "data": {
      "text/plain": [
       "1.0"
      ]
     },
     "execution_count": 121,
     "metadata": {},
     "output_type": "execute_result"
    }
   ],
   "source": [
    "from sklearn.datasets import load_iris\n",
    "from sklearn.ensemble import RandomForestClassifier\n",
    "\n",
    "# Load the iris dataset\n",
    "iris = load_iris()\n",
    "X = iris.data\n",
    "y = iris.target\n",
    "\n",
    "# Create an instance of RandomForestClassifier\n",
    "clf = RandomForestClassifier(n_estimators=10, random_state=42)\n",
    "\n",
    "# Create an instance of CallBackClass with the classifier\n",
    "callback = CallBackClass(clf,n_estimators=50, max_depth=10)\n",
    "\n",
    "# Call the fit method with kwargs parameters\n",
    "callback.fit(X, y, on_start=[fun1], on_end=[fun2],on_train=[fun3])\n",
    "\n",
    "callback.predict(X_test)\n",
    "\n",
    "callback.score(X_test,y_test)\n",
    "\n",
    "callback.calculate_accuracy(X_test,y_test)"
   ]
  },
  {
   "cell_type": "code",
   "execution_count": null,
   "id": "88d986ae",
   "metadata": {},
   "outputs": [],
   "source": []
  }
 ],
 "metadata": {
  "kernelspec": {
   "display_name": "Python 3 (ipykernel)",
   "language": "python",
   "name": "python3"
  },
  "language_info": {
   "codemirror_mode": {
    "name": "ipython",
    "version": 3
   },
   "file_extension": ".py",
   "mimetype": "text/x-python",
   "name": "python",
   "nbconvert_exporter": "python",
   "pygments_lexer": "ipython3",
   "version": "3.9.7"
  }
 },
 "nbformat": 4,
 "nbformat_minor": 5
}
