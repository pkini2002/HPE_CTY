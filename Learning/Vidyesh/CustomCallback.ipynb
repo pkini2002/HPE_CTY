{
  "cells": [
    {
      "cell_type": "markdown",
      "metadata": {
        "id": "3vVjTpaxgYVo"
      },
      "source": [
        "**Callbacks With Print Statements**"
      ]
    },
    {
      "cell_type": "code",
      "execution_count": 11,
      "metadata": {
        "id": "DVo4aivbXO3d"
      },
      "outputs": [],
      "source": [
        "from sklearn.base import BaseEstimator\n",
        "\n",
        "#Simple Callback Functions for Training Start and Training End\n",
        "def fun1():\n",
        "  print(\"Training in\");\n",
        "  for i in range(3,0,-1):\n",
        "    print(i)\n",
        "  print(\"Training Started\")\n",
        "\n",
        "def fun2():\n",
        "  print(\"Training ends\");\n",
        "  for i in range(3,0,-1):\n",
        "    print(i)\n",
        "  print(\"Training Ended\")\n",
        "\n",
        "#Class Used to Override Functions Of The Model\n",
        "class CallbackClass(BaseEstimator):\n",
        "  def __init__(self,model):\n",
        "    self.model=model\n",
        "\n",
        "  def fit(self,X,y,on_start=None,on_end=None,on_train=None): #Method 1 Sending Callbacks Through Kwargsss\n",
        "    \n",
        "    self.CallbackFunction() #Method 2 Custom Function Inside The Callback Class\n",
        "    \n",
        "    if on_start: #On Start Callbacks \n",
        "      for i in on_start:\n",
        "        i()\n",
        "\n",
        "    if on_train: #Train Callbacks\n",
        "      for i in range(self.model.n_estimators):\n",
        "        for i in on_train:\n",
        "          i()\n",
        "        self.model.fit(X,y)\n",
        "    \n",
        "    else:\n",
        "      self.model.fit(X,y)\n",
        "\n",
        "    if on_end: #On End Callbacks\n",
        "      for i in on_end:\n",
        "        i()\n",
        "    \n",
        "  def predict(self,X):\n",
        "    print(\"Predicted Value :\",self.model.predict(X))\n",
        "\n",
        "  def score(self,X,y):\n",
        "    print(\"Accuracy In Percentage :\",self.model.score(X,y)*100)\n",
        "\n",
        "  def CallbackFunction(self): #Custom CallBack\n",
        "    print(\"Training Data\")\n",
        "  "
      ]
    },
    {
      "cell_type": "code",
      "execution_count": 12,
      "metadata": {
        "colab": {
          "base_uri": "https://localhost:8080/"
        },
        "id": "ru7AuNdZevR_",
        "outputId": "23a3bce9-9289-4aa4-cfaa-dfc51df82030"
      },
      "outputs": [
        {
          "name": "stdout",
          "output_type": "stream",
          "text": [
            "Training Data\n",
            "Training in\n",
            "3\n",
            "2\n",
            "1\n",
            "Training Started\n",
            "Predicted Value : [0 1 0 1 2 1 2 0 1 0 0 1 2 0 2 1 2 0 0 2 1 0 1 1 1 0 1 1 2 2]\n",
            "Accuracy In Percentage : 93.33333333333333\n"
          ]
        }
      ],
      "source": [
        "import numpy as np\n",
        "import matplotlib.pyplot as plt\n",
        "from sklearn import datasets\n",
        "from sklearn.neighbors import KNeighborsClassifier\n",
        "from sklearn.model_selection import train_test_split\n",
        "\n",
        "#Dataset\n",
        "iris = datasets.load_iris()\n",
        "\n",
        "#Setting Of Data\n",
        "X = iris.data \n",
        "y = iris.target\n",
        "\n",
        "#Splitting of Data\n",
        "X_train,X_test,y_train,y_test = train_test_split(X,y,test_size=0.2,shuffle=True)\n",
        "\n",
        "#Choosing Model\n",
        "makeModel = KNeighborsClassifier(n_neighbors=6)\n",
        "\n",
        "#Callback Wrapper Class\n",
        "callBackobj = CallbackClass(makeModel)\n",
        "\n",
        "#Using Callback Object to Call Methods\n",
        "callBackobj.fit(X_train,y_train,on_start=[fun1])\n",
        "\n",
        "callBackobj.predict(X_test)\n",
        "\n",
        "callBackobj.score(X_test,y_test)\n",
        "\n",
        "\n"
      ]
    },
    {
      "cell_type": "code",
      "execution_count": 13,
      "metadata": {
        "colab": {
          "base_uri": "https://localhost:8080/",
          "height": 481
        },
        "id": "FZJmcOrvHyyH",
        "outputId": "16c7eda2-f55b-43d1-f338-53639a2f1745"
      },
      "outputs": [
        {
          "name": "stdout",
          "output_type": "stream",
          "text": [
            "Training Data\n",
            "Training in\n",
            "3\n",
            "2\n",
            "1\n",
            "Training Started\n",
            "Training Estimator\n",
            "Training Estimator\n",
            "Training Estimator\n",
            "Training Estimator\n",
            "Training Estimator\n",
            "Training Estimator\n",
            "Training Estimator\n",
            "Training Estimator\n",
            "Training Estimator\n",
            "Training Estimator\n",
            "Training ends\n",
            "3\n",
            "2\n",
            "1\n",
            "Training Ended\n"
          ]
        }
      ],
      "source": [
        "from sklearn.ensemble import RandomForestRegressor\n",
        "from sklearn.datasets import make_regression\n",
        "\n",
        "#Callback Function For Estimator Training\n",
        "def estimator_call():\n",
        "  print(\"Training Estimator\")\n",
        "\n",
        "#Setting Data\n",
        "X, y = make_regression(n_samples=100, n_features=10, random_state=42)\n",
        "\n",
        "#Choosing Model\n",
        "rf = RandomForestRegressor(n_estimators=10)\n",
        "\n",
        "#Callback Wrapper Object\n",
        "onTrainCallObj = CallbackClass(rf)\n",
        "\n",
        "#Using Object\n",
        "onTrainCallObj.fit(X,y,on_start=[fun1],on_end=[fun2],on_train=[estimator_call])\n",
        "\n"
      ]
    },
    {
      "cell_type": "markdown",
      "metadata": {
        "id": "hfOa-zslisyb"
      },
      "source": [
        "**Callback Functions With Parameters** (Implemented using Classes for better Understanding )"
      ]
    },
    {
      "cell_type": "code",
      "execution_count": 14,
      "metadata": {
        "id": "JOasPpsWkEHr"
      },
      "outputs": [],
      "source": [
        "from sklearn.base import BaseEstimator\n",
        "from sklearn.model_selection import train_test_split\n",
        "import numpy as np\n",
        "\n",
        "class TrainCallbacks(BaseEstimator):\n",
        "\n",
        "  def __init__(self,model): #Constructor\n",
        "    self.start_message=\"Training Started\"\n",
        "    self.end_message=\"Training Ended\"\n",
        "    self.model=model\n",
        "\n",
        "  def fit(self,X,y): #Fit Overridden\n",
        "\n",
        "    self.train_start(self.start_message)  #Pre-Training Callbacks \n",
        "\n",
        "    for i in range(self.model.n_estimators):    # Training Callbacks\n",
        "      self.model.fit(self.X_train,self.Y_train) # Using Fit again and again overides Existing Data\n",
        "      self.train((i+1)/self.model.n_estimators) # Data Can Be Optimised During Training Using This Function To get Higher Accuracy\n",
        "                                                # Now This Function is Just use for Printing Purposes\n",
        "                                                \n",
        "    self.train_end(self.end_message)  #Post-Training Callbacks\n",
        "\n",
        "  def predict(self,X):\n",
        "    return self.model.predict(X)\n",
        "\n",
        "  def train_start(self,message):\n",
        "    self.X_train,self.X_test,self.Y_train,self.Y_test = train_test_split(X,y,test_size=0.2)\n",
        "    print(message)\n",
        "\n",
        "  def train_end(self,message):\n",
        "    print(message)\n",
        "    for i in range(self.model.n_estimators):\n",
        "      print(\"Estimator\",i+1,\":\",self.model.estimators_[i].predict(X_test))\n",
        "    print(\"Accuracy Of The Model:\",self.model.score(self.X_test,self.Y_test))\n",
        "\n",
        "  def train(self,progress): #Parameter Callback Function\n",
        "    print(\"Training\",progress*100,\"% Completed\")\n",
        "\n",
        "\n"
      ]
    },
    {
      "cell_type": "code",
      "execution_count": 15,
      "metadata": {
        "colab": {
          "base_uri": "https://localhost:8080/"
        },
        "id": "JvihBqX_Ko_e",
        "outputId": "718cd2e0-9ceb-4ab1-97ae-2b5f7182b4f6"
      },
      "outputs": [
        {
          "name": "stdout",
          "output_type": "stream",
          "text": [
            "Training Started\n",
            "Training 10.0 % Completed\n",
            "Training 20.0 % Completed\n",
            "Training 30.0 % Completed\n",
            "Training 40.0 % Completed\n",
            "Training 50.0 % Completed\n",
            "Training 60.0 % Completed\n",
            "Training 70.0 % Completed\n",
            "Training 80.0 % Completed\n",
            "Training 90.0 % Completed\n",
            "Training 100.0 % Completed\n",
            "Training Ended\n",
            "Estimator 1 : [0. 1. 0. 1. 2. 1. 2. 0. 1. 0. 0. 1. 2. 0. 2. 1. 2. 0. 0. 2. 1. 0. 1. 1.\n",
            " 1. 0. 1. 1. 2. 2.]\n",
            "Estimator 2 : [0. 1. 0. 1. 2. 1. 2. 0. 1. 0. 0. 1. 2. 0. 2. 1. 2. 0. 0. 2. 1. 0. 1. 1.\n",
            " 1. 0. 1. 1. 2. 2.]\n",
            "Estimator 3 : [0. 2. 0. 1. 2. 1. 2. 0. 1. 0. 0. 1. 2. 0. 2. 1. 2. 0. 0. 2. 1. 0. 1. 1.\n",
            " 1. 0. 1. 1. 2. 2.]\n",
            "Estimator 4 : [0. 1. 0. 1. 2. 1. 2. 0. 1. 0. 0. 2. 2. 0. 2. 1. 2. 0. 0. 1. 1. 0. 1. 1.\n",
            " 1. 0. 1. 2. 2. 2.]\n",
            "Estimator 5 : [0. 2. 0. 1. 2. 1. 2. 0. 1. 0. 0. 2. 2. 0. 2. 1. 2. 0. 0. 2. 1. 0. 1. 1.\n",
            " 1. 0. 1. 1. 2. 2.]\n",
            "Estimator 6 : [0. 1. 0. 1. 2. 1. 2. 0. 1. 0. 0. 1. 2. 0. 2. 1. 2. 0. 0. 1. 1. 0. 1. 1.\n",
            " 1. 0. 1. 1. 2. 2.]\n",
            "Estimator 7 : [0. 1. 0. 1. 2. 1. 2. 0. 1. 0. 0. 2. 2. 0. 2. 1. 2. 0. 0. 2. 1. 0. 1. 1.\n",
            " 1. 0. 1. 1. 2. 2.]\n",
            "Estimator 8 : [0. 1. 0. 2. 2. 1. 2. 0. 1. 0. 0. 2. 2. 0. 2. 1. 2. 0. 0. 2. 1. 0. 1. 1.\n",
            " 1. 0. 1. 2. 2. 2.]\n",
            "Estimator 9 : [0. 2. 0. 1. 2. 1. 1. 0. 1. 0. 0. 1. 2. 0. 2. 1. 2. 0. 0. 2. 1. 0. 1. 1.\n",
            " 1. 0. 1. 1. 2. 2.]\n",
            "Estimator 10 : [0. 1. 0. 1. 2. 1. 2. 0. 1. 0. 0. 1. 2. 0. 2. 1. 2. 0. 0. 2. 1. 0. 1. 1.\n",
            " 1. 0. 1. 1. 2. 2.]\n",
            "Accuracy Of The Model: 0.8946808510638298\n"
          ]
        }
      ],
      "source": [
        "from sklearn.ensemble import RandomForestRegressor\n",
        "\n",
        "#Dataset\n",
        "iris = datasets.load_iris()\n",
        "\n",
        "#Setting Of Data\n",
        "X = iris.data \n",
        "y = iris.target\n",
        "\n",
        "#Choosing Model\n",
        "rf = RandomForestRegressor(n_estimators=10)\n",
        "\n",
        "#Callback Wrapper Object\n",
        "onTrainCallObj = TrainCallbacks(rf)\n",
        "\n",
        "#Using Object\n",
        "onTrainCallObj.fit(X,y)\n",
        "\n"
      ]
    }
  ],
  "metadata": {
    "colab": {
      "provenance": []
    },
    "kernelspec": {
      "display_name": "Python 3",
      "language": "python",
      "name": "python3"
    },
    "language_info": {
      "codemirror_mode": {
        "name": "ipython",
        "version": 3
      },
      "file_extension": ".py",
      "mimetype": "text/x-python",
      "name": "python",
      "nbconvert_exporter": "python",
      "pygments_lexer": "ipython3",
      "version": "3.10.10"
    },
    "vscode": {
      "interpreter": {
        "hash": "3b7e9cb8e453d6cda0fe8c8dd13f891a1f09162f0e7c66ffeae7751a7aecf00d"
      }
    }
  },
  "nbformat": 4,
  "nbformat_minor": 0
}
