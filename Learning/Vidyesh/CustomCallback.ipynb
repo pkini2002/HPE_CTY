{
  "nbformat": 4,
  "nbformat_minor": 0,
  "metadata": {
    "colab": {
      "provenance": []
    },
    "kernelspec": {
      "name": "python3",
      "display_name": "Python 3"
    },
    "language_info": {
      "name": "python"
    }
  },
  "cells": [
    {
      "cell_type": "markdown",
      "source": [
        "**Callbacks With Print Statements**"
      ],
      "metadata": {
        "id": "3vVjTpaxgYVo"
      }
    },
    {
      "cell_type": "code",
      "source": [
        "from sklearn.base import BaseEstimator\n",
        "\n",
        "#Simple Callback Functions for Training Start and Training End\n",
        "def fun1():\n",
        "  print(\"Training in\");\n",
        "  for i in range(3,0,-1):\n",
        "    print(i)\n",
        "  print(\"Training Started\")\n",
        "\n",
        "def fun2():\n",
        "  print(\"Training ends\");\n",
        "  for i in range(3,0,-1):\n",
        "    print(i)\n",
        "  print(\"Training Ended\")\n",
        "\n",
        "#Class Used to Override Functions Of The Model\n",
        "class CallbackClass(BaseEstimator):\n",
        "  def __init__(self,model):\n",
        "    self.model=model\n",
        "\n",
        "  def fit(self,X,y,on_start=None,on_end=None,on_train=None): #Method 1 Sending Callbacks Through Kwargsss\n",
        "    \n",
        "    self.CallbackFunction() #Method 2 Custom Function Inside The Callback Class\n",
        "    \n",
        "    if on_start: #On Start Callbacks \n",
        "      for i in on_start:\n",
        "        i()\n",
        "\n",
        "    if on_train: #Train Callbacks\n",
        "      for i in range(self.model.n_estimators):\n",
        "        for i in on_train:\n",
        "          i()\n",
        "        self.model.fit(X,y)\n",
        "    \n",
        "    else:\n",
        "      self.model.fit(X,y)\n",
        "\n",
        "    if on_end: #On End Callbacks\n",
        "      for i in on_end:\n",
        "        i()\n",
        "    \n",
        "  def predict(self,X):\n",
        "    print(\"Predicted Value :\",self.model.predict(X))\n",
        "\n",
        "  def score(self,X,y):\n",
        "    print(\"Accuracy In Percentage :\",self.model.score(X,y)*100)\n",
        "\n",
        "  def CallbackFunction(self): #Custom CallBack\n",
        "    print(\"Training Data\")\n",
        "  "
      ],
      "metadata": {
        "id": "DVo4aivbXO3d"
      },
      "execution_count": 5,
      "outputs": []
    },
    {
      "cell_type": "code",
      "execution_count": 6,
      "metadata": {
        "colab": {
          "base_uri": "https://localhost:8080/"
        },
        "id": "ru7AuNdZevR_",
        "outputId": "8019877b-9c49-4ff7-e657-291ed6a6f2b3"
      },
      "outputs": [
        {
          "output_type": "stream",
          "name": "stdout",
          "text": [
            "Training Data\n",
            "Training in\n",
            "3\n",
            "2\n",
            "1\n",
            "Training Started\n",
            "Predicted Value : [2 1 0 1 2 2 0 2 2 2 1 1 1 0 2 2 2 2 0 0 2 2 0 2 0 0 0 0 2 1]\n",
            "Accuracy In Percentage : 96.66666666666667\n"
          ]
        }
      ],
      "source": [
        "import numpy as np\n",
        "import matplotlib.pyplot as plt\n",
        "from sklearn import datasets\n",
        "from sklearn.neighbors import KNeighborsClassifier\n",
        "from sklearn.model_selection import train_test_split\n",
        "\n",
        "#Dataset\n",
        "iris = datasets.load_iris()\n",
        "\n",
        "#Setting Of Data\n",
        "X = iris.data \n",
        "y = iris.target\n",
        "\n",
        "#Splitting of Data\n",
        "X_train,X_test,y_train,y_test = train_test_split(X,y,test_size=0.2,shuffle=True)\n",
        "\n",
        "#Choosing Model\n",
        "makeModel = KNeighborsClassifier(n_neighbors=6)\n",
        "\n",
        "#Callback Wrapper Class\n",
        "callBackobj = CallbackClass(makeModel)\n",
        "\n",
        "#Using Callback Object to Call Methods\n",
        "callBackobj.fit(X_train,y_train,on_start=[fun1])\n",
        "\n",
        "callBackobj.predict(X_test)\n",
        "\n",
        "callBackobj.score(X_test,y_test)\n",
        "\n",
        "\n"
      ]
    },
    {
      "cell_type": "code",
      "source": [
        "from sklearn.ensemble import RandomForestRegressor\n",
        "from sklearn.datasets import make_regression\n",
        "\n",
        "#Callback Function For Estimator Training\n",
        "def estimator_call():\n",
        "  print(\"Training Estimator\")\n",
        "\n",
        "#Setting Data\n",
        "X, y = make_regression(n_samples=100, n_features=10, random_state=42)\n",
        "\n",
        "#Choosing Model\n",
        "rf = RandomForestRegressor(n_estimators=10)\n",
        "\n",
        "#Callback Wrapper Object\n",
        "onTrainCallObj = CallbackClass(rf)\n",
        "\n",
        "#Using Object\n",
        "onTrainCallObj.fit(X,y,on_start=[fun1],on_end=[fun2],on_train=[estimator_call])\n",
        "\n"
      ],
      "metadata": {
        "id": "FZJmcOrvHyyH",
        "colab": {
          "base_uri": "https://localhost:8080/"
        },
        "outputId": "084f1538-40fc-41a5-b9f5-e4ebd4f5f3e7"
      },
      "execution_count": 7,
      "outputs": [
        {
          "output_type": "stream",
          "name": "stdout",
          "text": [
            "Training Data\n",
            "Training in\n",
            "3\n",
            "2\n",
            "1\n",
            "Training Started\n",
            "Training Estimator\n",
            "Training Estimator\n",
            "Training Estimator\n",
            "Training Estimator\n",
            "Training Estimator\n",
            "Training Estimator\n",
            "Training Estimator\n",
            "Training Estimator\n",
            "Training Estimator\n",
            "Training Estimator\n",
            "Training ends\n",
            "3\n",
            "2\n",
            "1\n",
            "Training Ended\n"
          ]
        }
      ]
    },
    {
      "cell_type": "markdown",
      "source": [
        "**Callback Functions With Parameters** (Implemented using Classes for better Understanding )"
      ],
      "metadata": {
        "id": "hfOa-zslisyb"
      }
    },
    {
      "cell_type": "code",
      "source": [
        "from sklearn.base import BaseEstimator\n",
        "from sklearn.model_selection import train_test_split\n",
        "import numpy as np\n",
        "\n",
        "class TrainCallbacks(BaseEstimator):  #Custom Estimator Along with Callbacks\n",
        "\n",
        "  def __init__(self,model): #Constructor\n",
        "    self.start_message=\"Training Started\"\n",
        "    self.end_message=\"Training Ended\"\n",
        "    self.model=model\n",
        "\n",
        "  def fit(self,X,y): #Fit Overridden\n",
        "\n",
        "    self.train_start(self.start_message)  #Pre-Training Callbacks \n",
        "\n",
        "    for i in range(self.model.n_estimators):    # Training Callbacks\n",
        "      self.model.fit(self.X_train,self.Y_train) # Using Fit again and again overides Existing Data\n",
        "      self.train((i+1)/self.model.n_estimators) # Data Can Be Optimised During Training Using This Function To get Higher Accuracy\n",
        "                                                # Now This Function is Just use for Printing Purposes\n",
        "                                                \n",
        "    self.train_end(self.end_message)  #Post-Training Callbacks\n",
        "\n",
        "  def predict(self,X):\n",
        "    return self.model.predict(X)\n",
        "\n",
        "  def train_start(self,message):\n",
        "    self.X_train,self.X_test,self.Y_train,self.Y_test = train_test_split(X,y,test_size=0.2)\n",
        "    print(message)\n",
        "\n",
        "  def train_end(self,message):\n",
        "    print(message)\n",
        "    for i in range(self.model.n_estimators):\n",
        "      print(\"Estimator\",i+1,\":\",self.model.estimators_[i].predict(X_test))\n",
        "    print(\"Accuracy Of The Model:\",self.model.score(self.X_test,self.Y_test))\n",
        "\n",
        "  def train(self,progress): #Parameter Callback Function\n",
        "    print(\"Training\",progress*100,\"% Completed\")\n",
        "\n",
        "\n"
      ],
      "metadata": {
        "id": "JOasPpsWkEHr"
      },
      "execution_count": 8,
      "outputs": []
    },
    {
      "cell_type": "code",
      "source": [
        "from sklearn.ensemble import RandomForestRegressor\n",
        "\n",
        "#Dataset\n",
        "iris = datasets.load_iris()\n",
        "\n",
        "#Setting Of Data\n",
        "X = iris.data \n",
        "y = iris.target\n",
        "\n",
        "#Choosing Model\n",
        "rf = RandomForestRegressor(n_estimators=10)\n",
        "\n",
        "#Callback Wrapper Object\n",
        "onTrainCallObj = TrainCallbacks(rf)\n",
        "\n",
        "#Using Object\n",
        "onTrainCallObj.fit(X,y)\n"
      ],
      "metadata": {
        "colab": {
          "base_uri": "https://localhost:8080/"
        },
        "id": "JvihBqX_Ko_e",
        "outputId": "dcdd1ef2-87d0-4020-8947-f7db6d0af819"
      },
      "execution_count": 21,
      "outputs": [
        {
          "output_type": "stream",
          "name": "stdout",
          "text": [
            "Training Started\n",
            "Training 10.0 % Completed\n",
            "Training 20.0 % Completed\n",
            "Training 30.0 % Completed\n",
            "Training 40.0 % Completed\n",
            "Training 50.0 % Completed\n",
            "Training 60.0 % Completed\n",
            "Training 70.0 % Completed\n",
            "Training 80.0 % Completed\n",
            "Training 90.0 % Completed\n",
            "Training 100.0 % Completed\n",
            "Training Ended\n",
            "Estimator 1 : [2. 1. 0. 1. 2. 2. 0. 2. 2. 2. 1. 1. 1. 0. 2. 2. 2. 2. 0. 0. 2. 2. 0. 1.\n",
            " 0. 0. 0. 0. 2. 1.]\n",
            "Estimator 2 : [2. 1. 0. 1. 2. 2. 0. 2. 2. 2. 1. 1. 1. 0. 2. 2. 2. 2. 0. 0. 2. 2. 0. 2.\n",
            " 0. 0. 0. 0. 2. 1.]\n",
            "Estimator 3 : [2. 1. 0. 1. 2. 2. 0. 2. 2. 2. 1. 1. 1. 0. 2. 2. 2. 2. 0. 0. 2. 2. 0. 2.\n",
            " 0. 0. 0. 0. 2. 1.]\n",
            "Estimator 4 : [2. 1. 0. 1. 2. 2. 0. 2. 2. 2. 1. 1. 1. 0. 2. 2. 2. 2. 0. 0. 2. 2. 0. 2.\n",
            " 0. 0. 0. 0. 2. 1.]\n",
            "Estimator 5 : [1. 1. 0. 1. 2. 2. 0. 2. 2. 2. 1. 1. 1. 0. 2. 2. 2. 2. 0. 0. 2. 2. 0. 1.\n",
            " 0. 0. 0. 0. 2. 1.]\n",
            "Estimator 6 : [2. 1. 0. 1. 2. 2. 0. 2. 2. 2. 1. 1. 1. 0. 2. 2. 2. 2. 0. 0. 2. 2. 0. 1.\n",
            " 0. 0. 0. 0. 2. 1.]\n",
            "Estimator 7 : [2. 1. 0. 1. 2. 2. 0. 2. 2. 2. 1. 1. 1. 0. 2. 2. 2. 2. 0. 0. 2. 2. 0. 2.\n",
            " 0. 0. 0. 0. 2. 1.]\n",
            "Estimator 8 : [2. 1. 0. 1. 2. 2. 0. 2. 2. 2. 2. 1. 1. 0. 2. 2. 2. 2. 0. 0. 2. 1. 0. 1.\n",
            " 0. 0. 0. 0. 2. 1.]\n",
            "Estimator 9 : [2. 1. 0. 1. 2. 2. 0. 2. 2. 2. 1. 1. 1. 0. 2. 2. 2. 2. 0. 0. 2. 2. 0. 2.\n",
            " 0. 0. 0. 0. 2. 1.]\n",
            "Estimator 10 : [2. 1. 0. 1. 2. 2. 0. 2. 2. 2. 1. 1. 1. 0. 2. 2. 2. 2. 0. 0. 2. 2. 0. 1.\n",
            " 0. 0. 0. 0. 2. 1.]\n",
            "Accuracy Of The Model: 0.9417910447761194\n"
          ]
        },
        {
          "output_type": "execute_result",
          "data": {
            "text/plain": [
              "array([0. , 0. , 0. , 0. , 0. , 0. , 0. , 0. , 0. , 0. , 0. , 0. , 0. ,\n",
              "       0. , 0. , 0. , 0. , 0. , 0. , 0. , 0. , 0. , 0. , 0. , 0. , 0. ,\n",
              "       0. , 0. , 0. , 0. , 0. , 0. , 0. , 0. , 0. , 0. , 0. , 0. , 0. ,\n",
              "       0. , 0. , 0. , 0. , 0. , 0. , 0. , 0. , 0. , 0. , 0. , 1. , 1. ,\n",
              "       1.1, 1. , 1. , 1. , 1.1, 1. , 1. , 1. , 1. , 1. , 1. , 1. , 1. ,\n",
              "       1. , 1. , 1. , 1. , 1. , 2. , 1. , 1. , 1. , 1. , 1. , 1.1, 1.5,\n",
              "       1. , 1. , 1. , 1. , 1. , 1.5, 1. , 1.1, 1. , 1. , 1. , 1. , 1. ,\n",
              "       1. , 1. , 1. , 1. , 1. , 1. , 1. , 1. , 1. , 2. , 2. , 2. , 2. ,\n",
              "       2. , 2. , 1.8, 2. , 1.9, 2. , 2. , 1.9, 2. , 2. , 2. , 2. , 2. ,\n",
              "       2. , 1.9, 1.5, 2. , 2. , 2. , 1.9, 2. , 2. , 2. , 2. , 2. , 2. ,\n",
              "       2. , 2. , 2. , 1.8, 1.9, 2. , 2. , 2. , 2. , 2. , 2. , 2. , 2. ,\n",
              "       2. , 2. , 2. , 1.9, 2. , 2. , 2. ])"
            ]
          },
          "metadata": {},
          "execution_count": 21
        }
      ]
    },
    {
      "cell_type": "markdown",
      "source": [
        "**Callback Functions With 2 Classes ( For Implementing With Similar Flow To Other Frameworks )**\n",
        "\n",
        "Steps:\n",
        "1.   Create A Class With All The Callback Functions. This Class Created In Must Contain All The Required Callbacks Like **OnTrain, OnTrainStart, OnTrainEnd**. This Class Can be Called ***SwarmCallbacks*** as in TF\n",
        "2.   Most of the Fit Methods for Models in Scikit learn do not have the callback feature as in Tensorflow. So We Need To Create Our Own Estimator using the Base Estimator Class which includes the Existing Estimator as the SubEstimator To Include *Callback* as a Valid Parameter to our fit function.This Class Acts as a Wrapper and can be called ***SwarmEstimator*** \n",
        "\n",
        "\n",
        "> **Note:** The Above Task Can be Done Using A Single Class As Shown in the Above Cell But It Wont Have a Similar Workflow"
      ],
      "metadata": {
        "id": "rs4zjsUnqIFm"
      }
    },
    {
      "cell_type": "code",
      "source": [
        "from sklearn.model_selection import train_test_split\n",
        "\n",
        "#STEP 1\n",
        "class SwarmCallbacks(): #CALLBACK FUNCTIONS ARE DEFINED IN THIS CLASS\n",
        "  def __init__(self):\n",
        "    self.X_train = None\n",
        "    self.X_test = None \n",
        "    self.Y_train = None \n",
        "    self.Y_test = None\n",
        "\n",
        "  def onTrainStart(self,message):\n",
        "    self.X_train,self.X_test,self.Y_train,self.Y_test = train_test_split(X,y,test_size=0.2)\n",
        "    print(message)\n",
        "    return  (self.X_train,self.X_test,self.Y_train,self.Y_test)\n",
        "\n",
        "  def onTrainEnd(self,message,model):\n",
        "    print(message)\n",
        "    for i in range(model.n_estimators):\n",
        "      print(\"Estimator\",i+1,\":\",model.estimators_[i].predict(self.X_test))\n",
        "    print(\"Accuracy Of The Model:\",model.score(self.X_test,self.Y_test))\n",
        "\n",
        "  def onTrain(self,progress):\n",
        "    print(\"Training\",progress*100,\"% Completed\")"
      ],
      "metadata": {
        "id": "gDu65UVL8he6"
      },
      "execution_count": 58,
      "outputs": []
    },
    {
      "cell_type": "code",
      "source": [
        "from sklearn.base import BaseEstimator\n",
        "\n",
        "#STEP 2\n",
        "class SwarmEstimator(BaseEstimator): #Custom Estimator That Overrides Fit Methods To Have the Callback Parameter\n",
        "  def __init__(self,model): #Constructor To Initialise The Estimator\n",
        "    self.model=model\n",
        "    self.start_message=\"Training Started\"   #Pre-Defined Parameters If Needed\n",
        "    self.end_message=\"Training Ended\"\n",
        "    self._callback = None\n",
        "\n",
        "  #Parameters: Model = Estimator Object of Scikit Learn (Eg: KNN Estimator Object, AdaBoost Estimator Object Etc)... More can be added\n",
        "  \n",
        "  def fit(self,X,Y=None,callback=None): #Overiding Fit Method to Have A Callback Keyword Argument\n",
        "    if callback:\n",
        "      [self._callback] = callback #Setting the Callback Object...Note: It Must Be Verified that it is an Instance of SwarmCallbacks Class Only !!!\n",
        "\n",
        "    (X_train,X_test,Y_train,Y_test)=self._callback.onTrainStart(self.start_message); #Pre Training Callback in Swarm Callbacks\n",
        "\n",
        "    if Y is not None: #For Supervised Learning\n",
        "      for i in range(self.model.n_estimators):                # Training Callbacks in Swarm Callbacks Must Be Iterative Because ( For Now Using Forest Algorithms Having N Estimators Attribute )\n",
        "        self.model.fit(X_train,Y_train)                       # Using Fit again and again overides Existing Data\n",
        "        self._callback.onTrain((i+1)/self.model.n_estimators) # Data Can Be Optimised During Each Iteration Using This Function To get Higher Accuracy\n",
        "                                                              # Now This Function is Just used for Printing Purposes\n",
        "    else: #For Unsupervised Learning\n",
        "      self.model.fit(X_train) #A Similar Implementation to Above can be done here\n",
        "                                                \n",
        "    self._callback.onTrainEnd(self.end_message,self.model)  #Post-Training Callbacks in Swarm Callbacks \n",
        "\n",
        "  \n",
        "  def predict(self,X):    #Used to Predict on The Model\n",
        "    return self.model.predict(X)\n",
        "\n",
        "  def set_params(self,**params): #Used to Change Hyper Parameters Of The Model\n",
        "    self.model.set_params(**params)\n",
        "    return self.model.get_params()\n",
        "  \n",
        "  def get_params(self):   #Used to View Hyper Parameters Of The Model\n",
        "    return self.model.get_params(deep=True)\n",
        "\n",
        "  #Note: Making SwarmEstimator As A Wrapper Class Can Remove Some Of The Estimator Functionalities Unless Implemented \n",
        "  #For Eg: If Predict Was Not Implemented We couldnt have Predicted\n"
      ],
      "metadata": {
        "id": "AoofIzJnrObo"
      },
      "execution_count": 56,
      "outputs": []
    },
    {
      "cell_type": "code",
      "source": [
        "#WORKFLOW\n",
        "from sklearn import datasets\n",
        "from sklearn.ensemble import RandomForestRegressor\n",
        "\n",
        "#Dataset\n",
        "iris = datasets.load_iris()\n",
        "\n",
        "#Setting Of Data\n",
        "X = iris.data \n",
        "y = iris.target\n",
        "\n",
        "#Choosing Model\n",
        "rf = RandomForestRegressor(n_estimators=10)\n",
        "\n",
        "#Create Swarm Estimator\n",
        "swarmModel = SwarmEstimator(rf)\n",
        "\n",
        "#Set CallBack Class\n",
        "swarmCallback = SwarmCallbacks()\n",
        "\n",
        "#Use Swarm Estimator to Call Fit with callback set as SwarmCallback Object\n",
        "swarmModel.fit(X,y,callback=[swarmCallback])\n",
        "\n",
        "#Predict\n",
        "print(swarmModel.predict(X))\n",
        "\n",
        "#Get HyperParameters Of the Model\n",
        "print(swarmModel.get_params())\n",
        "\n",
        "#Set HyperParameters Of the Model\n",
        "params={\"warm_start\":\"True\"}\n",
        "print(swarmModel.set_params(**params))\n"
      ],
      "metadata": {
        "colab": {
          "base_uri": "https://localhost:8080/"
        },
        "id": "qmsRBHjW-9l4",
        "outputId": "330cab44-9e3a-4905-f624-dd2004a79fa6"
      },
      "execution_count": 59,
      "outputs": [
        {
          "output_type": "stream",
          "name": "stdout",
          "text": [
            "Training Started\n",
            "Training 10.0 % Completed\n",
            "Training 20.0 % Completed\n",
            "Training 30.0 % Completed\n",
            "Training 40.0 % Completed\n",
            "Training 50.0 % Completed\n",
            "Training 60.0 % Completed\n",
            "Training 70.0 % Completed\n",
            "Training 80.0 % Completed\n",
            "Training 90.0 % Completed\n",
            "Training 100.0 % Completed\n",
            "Training Ended\n",
            "Estimator 1 : [2. 1. 0. 1. 1. 2. 1. 1. 0. 0. 0. 0. 1. 0. 1. 1. 1. 1. 2. 1. 2. 0. 0. 0.\n",
            " 2. 0. 0. 1. 2. 2.]\n",
            "Estimator 2 : [2. 1. 0. 1. 1. 1. 1. 1. 0. 0. 0. 0. 1. 0. 1. 1. 1. 1. 2. 1. 2. 0. 0. 0.\n",
            " 2. 0. 0. 1. 2. 2.]\n",
            "Estimator 3 : [2. 1. 0. 1. 1. 2. 1. 1. 0. 0. 0. 0. 1. 0. 1. 1. 1. 1. 2. 1. 2. 0. 0. 0.\n",
            " 2. 0. 0. 1. 2. 2.]\n",
            "Estimator 4 : [2. 1. 0. 1. 1. 1. 1. 1. 0. 0. 0. 0. 1. 0. 1. 1. 1. 1. 2. 1. 2. 0. 0. 0.\n",
            " 2. 0. 0. 1. 2. 2.]\n",
            "Estimator 5 : [2. 1. 0. 1. 1. 1. 1. 1. 0. 0. 0. 0. 1. 0. 1. 1. 1. 1. 2. 1. 2. 0. 0. 0.\n",
            " 2. 0. 0. 1. 2. 2.]\n",
            "Estimator 6 : [2. 1. 0. 1. 1. 2. 1. 1. 0. 0. 0. 0. 1. 0. 1. 2. 1. 1. 2. 1. 2. 0. 0. 0.\n",
            " 2. 0. 0. 1. 1. 2.]\n",
            "Estimator 7 : [2. 1. 0. 1. 1. 1. 1. 1. 0. 0. 0. 0. 1. 0. 1. 1. 1. 1. 2. 1. 2. 0. 0. 0.\n",
            " 2. 0. 0. 1. 2. 2.]\n",
            "Estimator 8 : [2. 1. 0. 1. 1. 2. 1. 1. 0. 0. 0. 0. 1. 0. 1. 2. 1. 1. 2. 1. 2. 0. 0. 0.\n",
            " 2. 0. 0. 1. 2. 2.]\n",
            "Estimator 9 : [2. 1. 0. 1. 1. 2. 1. 1. 0. 0. 0. 0. 1. 0. 1. 1. 1. 1. 2. 1. 2. 0. 0. 0.\n",
            " 2. 0. 0. 1. 1. 2.]\n",
            "Estimator 10 : [2. 1. 0. 1. 1. 2. 1. 1. 0. 0. 0. 0. 1. 0. 1. 2. 1. 1. 2. 1. 2. 0. 0. 0.\n",
            " 2. 0. 0. 1. 2. 2.]\n",
            "Accuracy Of The Model: 0.9631016042780749\n",
            "[0.  0.  0.  0.  0.  0.  0.  0.  0.  0.  0.  0.  0.  0.  0.  0.  0.  0.\n",
            " 0.  0.  0.  0.  0.  0.  0.  0.  0.  0.  0.  0.  0.  0.  0.  0.  0.  0.\n",
            " 0.  0.  0.  0.  0.  0.  0.  0.  0.  0.  0.  0.  0.  0.  1.  1.  1.  1.\n",
            " 1.  1.  1.  1.1 1.  1.  1.  1.  1.  1.  1.  1.  1.  1.  1.  1.  1.3 1.\n",
            " 1.  1.  1.  1.  1.  1.3 1.  1.  1.  1.  1.  1.3 1.  1.  1.  1.  1.  1.\n",
            " 1.  1.  1.  1.  1.  1.  1.  1.  1.  1.  2.  2.  2.  2.  2.  2.  1.8 2.\n",
            " 2.  2.  1.9 2.  2.  2.  2.  2.  2.  2.  2.  1.7 2.  2.  2.  2.  2.  2.\n",
            " 1.8 2.  2.  1.7 2.  2.  2.  1.3 1.6 2.  2.  2.  1.8 2.  2.  2.  2.  2.\n",
            " 2.  2.  2.  2.  2.  2. ]\n",
            "{'bootstrap': True, 'ccp_alpha': 0.0, 'criterion': 'squared_error', 'max_depth': None, 'max_features': 1.0, 'max_leaf_nodes': None, 'max_samples': None, 'min_impurity_decrease': 0.0, 'min_samples_leaf': 1, 'min_samples_split': 2, 'min_weight_fraction_leaf': 0.0, 'n_estimators': 10, 'n_jobs': None, 'oob_score': False, 'random_state': None, 'verbose': 0, 'warm_start': False}\n",
            "{'bootstrap': True, 'ccp_alpha': 0.0, 'criterion': 'squared_error', 'max_depth': None, 'max_features': 1.0, 'max_leaf_nodes': None, 'max_samples': None, 'min_impurity_decrease': 0.0, 'min_samples_leaf': 1, 'min_samples_split': 2, 'min_weight_fraction_leaf': 0.0, 'n_estimators': 10, 'n_jobs': None, 'oob_score': False, 'random_state': None, 'verbose': 0, 'warm_start': 'True'}\n"
          ]
        }
      ]
    }
  ]
}