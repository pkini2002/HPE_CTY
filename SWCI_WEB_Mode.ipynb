{
 "cells": [
  {
   "cell_type": "code",
   "execution_count": 1,
   "metadata": {
    "id": "9Zh7z-i0FvKT"
   },
   "outputs": [],
   "source": [
    "# Import swci from the swarmlearning whl package\n",
    "import swarmlearning.swci as sw\n",
    "\n",
    "swciServerName = '10.0.2.15'\n",
    "snServerName = '10.0.2.15'\n"
   ]
  },
  {
   "cell_type": "code",
   "execution_count": 2,
   "metadata": {},
   "outputs": [],
   "source": [
    "\n",
    "# Connect to the SWCI via SWCI_WEB_PORT\n",
    "s = sw.Swci(swciServerName,port=30306) #30306 is the default port\n"
   ]
  },
  {
   "cell_type": "code",
   "execution_count": 3,
   "metadata": {},
   "outputs": [
    {
     "name": "stdout",
     "output_type": "stream",
     "text": [
      "['DEFAULT CONTEXT SET TO : test-fd']\n"
     ]
    }
   ],
   "source": [
    "# Switches the context to testContext\n",
    "print(s.switchContext('test-fd'))"
   ]
  },
  {
   "cell_type": "code",
   "execution_count": 4,
   "metadata": {
    "scrolled": true
   },
   "outputs": [
    {
     "data": {
      "text/plain": [
       "['Task definition is valid',\n",
       " 'Task Registered : user_env_tf_build_task2',\n",
       " 'Appending Task Body',\n",
       " 'batch start : 1 , len : 4 Successful',\n",
       " 'batch start : 5 , len : 4 Successful',\n",
       " 'batch start : 9 , len : 3 Successful',\n",
       " 'Task creation Successful',\n",
       " 'WARNING: Task should be finalized by user explicitly']"
      ]
     },
     "execution_count": 4,
     "metadata": {},
     "output_type": "execute_result"
    }
   ],
   "source": [
    "s.cd('/platform/swarm/usr')\n",
    "s.uploadTaskDefintion(\"/home/hpecty/Desktop/user_env_tf_build_task1.yaml\")\n",
    "s.registerTask('user_env_tf_build_task1.yaml',finalize=False)"
   ]
  },
  {
   "cell_type": "code",
   "execution_count": 5,
   "metadata": {},
   "outputs": [
    {
     "data": {
      "text/plain": [
       "['Task Finalized']"
      ]
     },
     "execution_count": 5,
     "metadata": {},
     "output_type": "execute_result"
    }
   ],
   "source": [
    "s.finalizeTask('user_env_tf_build_task2')"
   ]
  },
  {
   "cell_type": "code",
   "execution_count": 6,
   "metadata": {
    "scrolled": true
   },
   "outputs": [
    {
     "data": {
      "text/plain": [
       "['NAME         : user_env_tf_build_task2',\n",
       " 'TASKTYPE     : MAKE_USER_CONTAINER',\n",
       " 'CREATETIME   : 2023-04-15 07:16:26',\n",
       " 'AUTHOR       : HPESwarm',\n",
       " 'CONTENTLINES : 12',\n",
       " 'PREREQ       : ROOTTASK',\n",
       " 'OUTCOME      : user-env-tf2.7.0-swop',\n",
       " 'FINALIZED    : True']"
      ]
     },
     "execution_count": 6,
     "metadata": {},
     "output_type": "execute_result"
    }
   ],
   "source": [
    "s.getTaskInfo('user_env_tf_build_task2')"
   ]
  },
  {
   "cell_type": "code",
   "execution_count": 7,
   "metadata": {
    "scrolled": true
   },
   "outputs": [
    {
     "data": {
      "text/plain": [
       "['0000: ---',\n",
       " '0001: BuildContext : sl-cli-lib',\n",
       " '0002: BuildSteps   :',\n",
       " '0003:     - FROM tensorflow/tensorflow:2.7.0',\n",
       " '0004:     -',\n",
       " '0005:     - RUN pip3 install --upgrade pip && pip3 install \\\\',\n",
       " '0006:     -    keras matplotlib opencv-python pandas protobuf==3.15.6',\n",
       " '0007:     -',\n",
       " '0008:     - RUN mkdir -p /tmp/hpe-swarmcli-pkg',\n",
       " '0009:     - COPY swarmlearning-client-py3-none-manylinux_2_24_x86_64.whl /tmp/hpe-swarmcli-pkg/swarmlearning-client-py3-none-manylinux_2_24_x86_64.whl',\n",
       " '0010:     - RUN pip3 install /tmp/hpe-swarmcli-pkg/swarmlearning-client-py3-none-manylinux_2_24_x86_64.whl',\n",
       " '0011: BuildType : INLINE']"
      ]
     },
     "execution_count": 7,
     "metadata": {},
     "output_type": "execute_result"
    }
   ],
   "source": [
    "s.getTaskBody('user_env_tf_build_task2')"
   ]
  },
  {
   "cell_type": "code",
   "execution_count": 8,
   "metadata": {},
   "outputs": [
    {
     "name": "stdout",
     "output_type": "stream",
     "text": [
      "['ROOTTASK', 'user_env_tf_build_task', 'swarm_fd_task', 'user_env_tf_build_task2']\n"
     ]
    }
   ],
   "source": [
    "# Lists all the tasks that includes root task\n",
    "print(s.listTasks())"
   ]
  },
  {
   "cell_type": "code",
   "execution_count": 9,
   "metadata": {
    "scrolled": true
   },
   "outputs": [
    {
     "data": {
      "text/plain": [
       "['Task assigned to TaskRunner']"
      ]
     },
     "execution_count": 9,
     "metadata": {},
     "output_type": "execute_result"
    }
   ],
   "source": [
    "s.assignTask('user_env_tf_build_task2','defaulttaskbb.taskdb.sml.hpe',1)"
   ]
  },
  {
   "cell_type": "code",
   "execution_count": 10,
   "metadata": {},
   "outputs": [
    {
     "data": {
      "text/plain": [
       "['TaskRunner Reset']"
      ]
     },
     "execution_count": 10,
     "metadata": {},
     "output_type": "execute_result"
    }
   ],
   "source": [
    "s.resetTaskRunner('defaulttaskbb.taskdb.sml.hpe')"
   ]
  },
  {
   "cell_type": "code",
   "execution_count": 11,
   "metadata": {
    "scrolled": true
   },
   "outputs": [
    {
     "name": "stdout",
     "output_type": "stream",
     "text": [
      "Assigned task user_env_tf_build_task2 on defaulttaskbb.taskdb.sml.hpe for execution\n",
      "Waiting for task user_env_tf_build_task2 to complete\n",
      "CONTRACT_VERSION     : 1\n",
      "TASKNAME             : user_env_tf_build_task2\n",
      "OPID                 : 9969366725948547819\n",
      "PEERS_TYPE           : SWOP\n",
      "PEERS_NEEDED         : 1\n",
      "TASK_STATE           : COMPLETE\n",
      "TARGET_SWOPID        : *\n",
      "ENROLLED_PEERS       : 1\n",
      "ACTIVE_PEERS         : 1\n",
      "COMPLETED_PEERS      : 1\n",
      "FAILED_PEERS         : 0\n",
      "IDLE_TS              : 2023-04-15 07:17:36\n",
      "ENROLL_TS            : 2023-04-15 07:17:40\n",
      "RUN_TS               : 2023-04-15 07:17:44\n",
      "ERRORCMP_TS          : 2023-04-15 07:18:13\n",
      "========================================\n",
      "NAME                      : demo\n",
      "SWOP_UID                  : 74561be8-d14f-48f4-baf7-41f2fecef82d\n",
      "OPERATION_ID              : 9969366725948547819\n",
      "PEER_COUNT                : 1\n",
      "UPDATE_TS                 : 2023-04-15 07:18:13\n",
      "SWOP_PEER_INDEX           : 0\n",
      "SWOP_PEER_STATUS          : COMPLETE\n",
      "SWOP_PEER_STATUS_DESC     : Build Task Completed\n",
      "========================================\n"
     ]
    }
   ],
   "source": [
    "#Executing Default Task\n",
    "s.executeTask('user_env_tf_build_task2')"
   ]
  },
  {
   "cell_type": "code",
   "execution_count": 12,
   "metadata": {},
   "outputs": [
    {
     "data": {
      "text/plain": [
       "['Task definition is valid',\n",
       " 'Task Registered : swarm_fd_task1',\n",
       " 'Appending Task Body',\n",
       " 'batch start : 1 , len : 4 Successful',\n",
       " 'batch start : 5 , len : 4 Successful',\n",
       " 'batch start : 9 , len : 4 Successful',\n",
       " 'batch start : 13 , len : 2 Successful',\n",
       " 'Task creation Successful',\n",
       " 'WARNING: Task should be finalized by user explicitly']"
      ]
     },
     "execution_count": 12,
     "metadata": {},
     "output_type": "execute_result"
    }
   ],
   "source": [
    "s.uploadTaskDefintion(\"/home/hpecty/Desktop/swarm_fd_task2.yaml\")\n",
    "s.registerTask('swarm_fd_task2.yaml',finalize=False)"
   ]
  },
  {
   "cell_type": "code",
   "execution_count": 13,
   "metadata": {
    "scrolled": true
   },
   "outputs": [
    {
     "data": {
      "text/plain": [
       "['Task Finalized']"
      ]
     },
     "execution_count": 13,
     "metadata": {},
     "output_type": "execute_result"
    }
   ],
   "source": [
    "s.finalizeTask('swarm_fd_task1')"
   ]
  },
  {
   "cell_type": "code",
   "execution_count": 14,
   "metadata": {},
   "outputs": [
    {
     "data": {
      "text/plain": [
       "['NAME         : swarm_fd_task1',\n",
       " 'TASKTYPE     : RUN_SWARM',\n",
       " 'CREATETIME   : 2023-04-15 07:20:15',\n",
       " 'AUTHOR       : HPESwarm',\n",
       " 'CONTENTLINES : 15',\n",
       " 'PREREQ       : user_env_tf_build_task',\n",
       " 'OUTCOME      : swarm_fd_task',\n",
       " 'FINALIZED    : True']"
      ]
     },
     "execution_count": 14,
     "metadata": {},
     "output_type": "execute_result"
    }
   ],
   "source": [
    "s.getTaskInfo('swarm_fd_task1')"
   ]
  },
  {
   "cell_type": "code",
   "execution_count": 15,
   "metadata": {},
   "outputs": [
    {
     "data": {
      "text/plain": [
       "['0000: ---',\n",
       " '0001: Command : model/fraud-detection.py',\n",
       " '0002: Entrypoint : python3',\n",
       " '0003: WorkingDir : /tmp/test',\n",
       " '0004: PrivateContent : /tmp/test/data-and-scratch',\n",
       " '0005: SharedContent :',\n",
       " '0006:   - Src   : /home/hpecty/Desktop/HP/swarm-learning/workspace/fraud-detection/model',\n",
       " '0007:     Tgt   : /tmp/test/model',\n",
       " '0008:     MType : BIND',\n",
       " '0009: Envvars :',\n",
       " '0010:   - DATA_DIR : data-and-scratch/app-data',\n",
       " '0011:   - SCRATCH_DIR : data-and-scratch/scratch',\n",
       " '0012:   - MODEL_DIR : model',\n",
       " '0013:   - MAX_EPOCHS : 32',\n",
       " '0014:   - MIN_PEERS : 4']"
      ]
     },
     "execution_count": 15,
     "metadata": {},
     "output_type": "execute_result"
    }
   ],
   "source": [
    "s.getTaskBody('swarm_fd_task1')"
   ]
  },
  {
   "cell_type": "code",
   "execution_count": 16,
   "metadata": {
    "scrolled": true
   },
   "outputs": [
    {
     "name": "stdout",
     "output_type": "stream",
     "text": [
      "['ROOTTASK', 'user_env_tf_build_task', 'swarm_fd_task', 'user_env_tf_build_task2', 'swarm_fd_task1']\n"
     ]
    }
   ],
   "source": [
    "# Lists all the created Contexts\n",
    "print(s.listTasks())"
   ]
  },
  {
   "cell_type": "code",
   "execution_count": 17,
   "metadata": {
    "scrolled": true
   },
   "outputs": [
    {
     "data": {
      "text/plain": [
       "['Task assigned to TaskRunner']"
      ]
     },
     "execution_count": 17,
     "metadata": {},
     "output_type": "execute_result"
    }
   ],
   "source": [
    "s.assignTask('swarm_fd_task1','defaulttaskbb.taskdb.sml.hpe',4)"
   ]
  },
  {
   "cell_type": "code",
   "execution_count": 18,
   "metadata": {
    "scrolled": true
   },
   "outputs": [
    {
     "data": {
      "text/plain": [
       "['TaskRunner Reset']"
      ]
     },
     "execution_count": 18,
     "metadata": {},
     "output_type": "execute_result"
    }
   ],
   "source": [
    "s.resetTaskRunner('defaulttaskbb.taskdb.sml.hpe')"
   ]
  },
  {
   "cell_type": "code",
   "execution_count": 19,
   "metadata": {},
   "outputs": [
    {
     "name": "stdout",
     "output_type": "stream",
     "text": [
      "Assigned task swarm_fd_task1 on defaulttaskbb.taskdb.sml.hpe for execution\n",
      "Waiting for task swarm_fd_task1 to complete\n",
      "Waiting for task swarm_fd_task1 to complete\n",
      "CONTRACT_VERSION     : 1\n",
      "TASKNAME             : swarm_fd_task1\n",
      "OPID                 : 13215589192680697763\n",
      "PEERS_TYPE           : SL\n",
      "PEERS_NEEDED         : 1\n",
      "TASK_STATE           : COMPLETE\n",
      "TARGET_SWOPID        : *\n",
      "ENROLLED_PEERS       : 1\n",
      "ACTIVE_PEERS         : 4\n",
      "COMPLETED_PEERS      : 1\n",
      "FAILED_PEERS         : 0\n",
      "IDLE_TS              : 2023-04-15 07:21:22\n",
      "ENROLL_TS            : 2023-04-15 07:21:29\n",
      "RUN_TS               : 2023-04-15 07:21:38\n",
      "ERRORCMP_TS          : 2023-04-15 07:24:35\n",
      "========================================\n",
      "NAME                      : demo\n",
      "SWOP_UID                  : 74561be8-d14f-48f4-baf7-41f2fecef82d\n",
      "OPERATION_ID              : 13215589192680697763\n",
      "PEER_COUNT                : 4\n",
      "UPDATE_TS                 : 2023-04-15 07:24:35\n",
      "SL_PEER_INDEX             : 0\n",
      "SL_UID                    : 93a0c816-1aa8-4216-afec-69f3aba7c664\n",
      "SL_PEER_STATUS            : RUNNING\n",
      "SL_PEER_STATUS_DESC       : End Sync Successful at sync id : 7\n",
      "SL_PEER_INDEX             : 1\n",
      "SL_UID                    : 16603f94-1dad-457a-a2ee-42c3b549e4fa\n",
      "SL_PEER_STATUS            : RUNNING\n",
      "SL_PEER_STATUS_DESC       : End Sync Successful at sync id : 7\n",
      "SL_PEER_INDEX             : 2\n",
      "SL_UID                    : 254b95d7-3ce7-466b-b7ff-7f15fda82747\n",
      "SL_PEER_STATUS            : RUNNING\n",
      "SL_PEER_STATUS_DESC       : End Sync Successful at sync id : 7\n",
      "SL_PEER_INDEX             : 3\n",
      "SL_UID                    : 1475fa3e-e163-45d7-af91-f064567d6f44\n",
      "SL_PEER_STATUS            : COMPLETE\n",
      "SL_PEER_STATUS_DESC       : All peers and Swarm training finished!\n",
      "========================================\n"
     ]
    }
   ],
   "source": [
    "s.executeTask('swarm_fd_task1')"
   ]
  },
  {
   "cell_type": "code",
   "execution_count": 20,
   "metadata": {},
   "outputs": [
    {
     "data": {
      "text/plain": [
       "['Completed SLEEP for: 15 secs']"
      ]
     },
     "execution_count": 20,
     "metadata": {},
     "output_type": "execute_result"
    }
   ],
   "source": [
    "s.sleep(15)"
   ]
  },
  {
   "cell_type": "code",
   "execution_count": 21,
   "metadata": {},
   "outputs": [
    {
     "data": {
      "text/plain": [
       "['TaskRunner Reset']"
      ]
     },
     "execution_count": 21,
     "metadata": {},
     "output_type": "execute_result"
    }
   ],
   "source": [
    "s.resetTaskRunner('defaulttaskbb.taskdb.sml.hpe')"
   ]
  },
  {
   "cell_type": "code",
   "execution_count": 22,
   "metadata": {},
   "outputs": [
    {
     "data": {
      "text/plain": [
       "['defaultbb.cqdb.sml.hpe']"
      ]
     },
     "execution_count": 22,
     "metadata": {},
     "output_type": "execute_result"
    }
   ],
   "source": [
    "s.listTrainingContracts()"
   ]
  },
  {
   "cell_type": "code",
   "execution_count": 23,
   "metadata": {},
   "outputs": [
    {
     "data": {
      "text/plain": [
       "['Contract Reset']"
      ]
     },
     "execution_count": 23,
     "metadata": {},
     "output_type": "execute_result"
    }
   ],
   "source": [
    "s.resetTrainingContract('defaultbb.cqdb.sml.hpe')"
   ]
  },
  {
   "cell_type": "code",
   "execution_count": null,
   "metadata": {},
   "outputs": [],
   "source": []
  }
 ],
 "metadata": {
  "colab": {
   "provenance": []
  },
  "kernelspec": {
   "display_name": "Python 3 (ipykernel)",
   "language": "python",
   "name": "python3"
  },
  "language_info": {
   "codemirror_mode": {
    "name": "ipython",
    "version": 3
   },
   "file_extension": ".py",
   "mimetype": "text/x-python",
   "name": "python",
   "nbconvert_exporter": "python",
   "pygments_lexer": "ipython3",
   "version": "3.8.16"
  }
 },
 "nbformat": 4,
 "nbformat_minor": 1
}
